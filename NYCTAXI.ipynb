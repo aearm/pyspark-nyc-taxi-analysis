{
 "cells": [
  {
   "cell_type": "code",
   "execution_count": 198,
   "metadata": {},
   "outputs": [],
   "source": [
    "# Imports\n",
    "import numpy as np\n",
    "import pandas as pd\n",
    "import seaborn as sns\n",
    "import matplotlib.pyplot as plt\n",
    "import matplotlib.dates as mdates\n",
    "import time\n",
    "\n",
    "from pyspark.sql import SQLContext\n",
    "from pyspark.sql import types\n",
    "from pyspark.sql.functions import isnan, when, count, col\n",
    "from os.path import expanduser, join, abspath\n",
    "\n",
    "from pyspark.sql import SparkSession\n",
    "from pyspark.sql import Row\n",
    "from pyspark.conf import SparkConf\n",
    "%matplotlib inline\n",
    "plt.style.use('ggplot')\n"
   ]
  },
  {
   "cell_type": "code",
   "execution_count": 199,
   "metadata": {},
   "outputs": [],
   "source": [
    "# Initialization\n",
    "# warehouse_location = abspath('spark-warehouse')\n",
    "# .config(\"spark.sql.warehouse.dir\", warehouse_location) \\\n",
    "# .config(\"spark.dynamicAllocation.enabled\",\"true\") \\\n",
    "\n",
    "spark = SparkSession\\\n",
    "    .builder \\\n",
    "    .appName(\"NYC-taxi-spark\") \\\n",
    "    .enableHiveSupport() \\\n",
    "    .getOrCreate()"
   ]
  },
  {
   "cell_type": "code",
   "execution_count": 200,
   "metadata": {},
   "outputs": [],
   "source": [
    "# Location of data in Filesystem  \n",
    "trips_file_loc = \"/home/nyc_taxi_data/trips\"\n",
    "weather_loc = \"/home/nyc_taxi_data/weather\"\n",
    "stations_loc = \"/home/nyc_taxi_data/weather_stations\""
   ]
  },
  {
   "cell_type": "code",
   "execution_count": 201,
   "metadata": {},
   "outputs": [
    {
     "name": "stdout",
     "output_type": "stream",
     "text": [
      "... completed job in 210.48971366882324 seconds\n"
     ]
    }
   ],
   "source": [
    "# READ IN TRIP DATA FRAME FROM CSV\n",
    "# Mention read from Hadoop \n",
    "start = time.time()\n",
    "trips_df = spark.read.csv(path=trips_file_loc, header=True, inferSchema=a=True)\n",
    "weather_df = spark.read.csv(path=weather_loc, header=True, inferSchema=True)\n",
    "weather_stations_df = spark.read.csv(path=stations_loc, header=True, inferSchema=True)\n",
    "print(f\"... completed job in {time.time() - start} seconds\")"
   ]
  },
  {
   "cell_type": "code",
   "execution_count": 202,
   "metadata": {},
   "outputs": [
    {
     "data": {
      "text/plain": [
       "53925735"
      ]
     },
     "execution_count": 202,
     "metadata": {},
     "output_type": "execute_result"
    }
   ],
   "source": [
    "trips_df.count()"
   ]
  },
  {
   "cell_type": "code",
   "execution_count": 203,
   "metadata": {},
   "outputs": [
    {
     "name": "stdout",
     "output_type": "stream",
     "text": [
      "root\n",
      " |-- VendorID: integer (nullable = true)\n",
      " |-- tpep_pickup_datetime: timestamp (nullable = true)\n",
      " |-- tpep_dropoff_datetime: timestamp (nullable = true)\n",
      " |-- passenger_count: integer (nullable = true)\n",
      " |-- trip_distance: double (nullable = true)\n",
      " |-- RatecodeID: integer (nullable = true)\n",
      " |-- store_and_fwd_flag: string (nullable = true)\n",
      " |-- PULocationID: integer (nullable = true)\n",
      " |-- DOLocationID: integer (nullable = true)\n",
      " |-- payment_type: integer (nullable = true)\n",
      " |-- fare_amount: double (nullable = true)\n",
      " |-- extra: double (nullable = true)\n",
      " |-- mta_tax: double (nullable = true)\n",
      " |-- tip_amount: double (nullable = true)\n",
      " |-- tolls_amount: double (nullable = true)\n",
      " |-- improvement_surcharge: double (nullable = true)\n",
      " |-- total_amount: double (nullable = true)\n",
      "\n",
      "root\n",
      " |-- stn: integer (nullable = true)\n",
      " |-- wban: integer (nullable = true)\n",
      " |-- year: integer (nullable = true)\n",
      " |-- mo: integer (nullable = true)\n",
      " |-- da: integer (nullable = true)\n",
      " |-- temp: double (nullable = true)\n",
      " |-- count_temp: integer (nullable = true)\n",
      " |-- dewp: double (nullable = true)\n",
      " |-- count_dewp: integer (nullable = true)\n",
      " |-- slp: double (nullable = true)\n",
      " |-- count_slp: integer (nullable = true)\n",
      " |-- stp: double (nullable = true)\n",
      " |-- count_stp: integer (nullable = true)\n",
      " |-- visib: double (nullable = true)\n",
      " |-- count_visib: integer (nullable = true)\n",
      " |-- wdsp: double (nullable = true)\n",
      " |-- count_wdsp: integer (nullable = true)\n",
      " |-- mxpsd: double (nullable = true)\n",
      " |-- gust: double (nullable = true)\n",
      " |-- max: double (nullable = true)\n",
      " |-- flag_max: string (nullable = true)\n",
      " |-- min: double (nullable = true)\n",
      " |-- flag_min: string (nullable = true)\n",
      " |-- prcp: double (nullable = true)\n",
      " |-- flag_prcp: string (nullable = true)\n",
      " |-- sndp: double (nullable = true)\n",
      " |-- fog: integer (nullable = true)\n",
      " |-- rain_drizzle: integer (nullable = true)\n",
      " |-- snow_ice_pellets: integer (nullable = true)\n",
      " |-- hail: integer (nullable = true)\n",
      " |-- thunder: integer (nullable = true)\n",
      " |-- tornado_funnel_cloud: integer (nullable = true)\n",
      "\n",
      "root\n",
      " |-- usaf: string (nullable = true)\n",
      " |-- wban: integer (nullable = true)\n",
      " |-- name: string (nullable = true)\n",
      " |-- country: string (nullable = true)\n",
      " |-- state: string (nullable = true)\n",
      " |-- call: string (nullable = true)\n",
      " |-- lat: double (nullable = true)\n",
      " |-- lon: double (nullable = true)\n",
      " |-- elev: double (nullable = true)\n",
      " |-- begin: integer (nullable = true)\n",
      " |-- end: integer (nullable = true)\n",
      "\n"
     ]
    },
    {
     "data": {
      "text/plain": [
       "[('usaf', 'string'),\n",
       " ('wban', 'int'),\n",
       " ('name', 'string'),\n",
       " ('country', 'string'),\n",
       " ('state', 'string'),\n",
       " ('call', 'string'),\n",
       " ('lat', 'double'),\n",
       " ('lon', 'double'),\n",
       " ('elev', 'double'),\n",
       " ('begin', 'int'),\n",
       " ('end', 'int')]"
      ]
     },
     "execution_count": 203,
     "metadata": {},
     "output_type": "execute_result"
    }
   ],
   "source": [
    "# Data Expolration\n",
    "trips_df.printSchema()\n",
    "trips_df.dtypes\n",
    "trips_df.count()\n",
    "\n",
    "weather_df.printSchema()\n",
    "weather_df.dtypes\n",
    "# weather_df.count()\n",
    "\n",
    "weather_stations_df.printSchema()\n",
    "weather_stations_df.dtypes\n",
    "# weather_stations_df.count()\n"
   ]
  },
  {
   "cell_type": "code",
   "execution_count": 204,
   "metadata": {},
   "outputs": [
    {
     "name": "stdout",
     "output_type": "stream",
     "text": [
      "... completed job in 306.1724519729614 seconds\n"
     ]
    }
   ],
   "source": [
    "# Write to External tables\n",
    "# spark.sql(\"\n",
    "# CREATE EXTERNAL TABLE yellow_taxi_2015_01 (\n",
    "#     vendorID                    VARCHAR(3),\n",
    "#     pickup_datetime             TIMESTAMP,\n",
    "#     dropoff_datetime            TIMESTAMP,\n",
    "#     passenger_count             SMALLINT,\n",
    "#     trip_distance               DECIMAL(6,3),\n",
    "#     pickup_longitude            DECIMAL(9,6),\n",
    "#     pickup_latitude             DECIMAL(9,6),\n",
    "#     ratecodeID                  SMALLINT,\n",
    "#     store_and_fwd_flag          VARCHAR(1),\n",
    "#     dropoff_longitude           DECIMAL(9,6),\n",
    "#     dropoff_latitude            DECIMAL(9,6),\n",
    "#     payment_type                VARCHAR(3),\n",
    "#     fare_amount                 DECIMAL(6,2),\n",
    "#     extra                       DECIMAL(6,2),\n",
    "#     mta_tax                     DECIMAL(6,2),\n",
    "#     tip_amount                  DECIMAL(6,2),\n",
    "#     tolls_amount                DECIMAL(6,2),\n",
    "#     improvement_surcharge       DECIMAL(6,2),\n",
    "#     total_amount                DECIMAL(6,2)\n",
    "# )\n",
    "# ROW FORMAT DELIMITED\n",
    "# FIELDS TERMINATED BY ','\n",
    "# LINES TERMINATED BY '\\n'\n",
    "# LOCATION '/home/nyc_taxi_data/trips'\")\n",
    "# you can check by ls the directory\n",
    "start = time.time()\n",
    "trips_df.write.mode(\"overwrite\").option(\"path\",\"/home/external-tables\").saveAsTable(\"trips\")\n",
    "weather_stations_df.write.mode(\"overwrite\").option(\"path\",\"/home/external-tables\").saveAsTable(\"weather_stations\")\n",
    "weather_df.write.mode(\"overwrite\").option(\"path\",\"/home/external-tables\").saveAsTable(\"weather\")\n",
    "print(f\"... completed job in {time.time() - start} seconds\")\n"
   ]
  },
  {
   "cell_type": "code",
   "execution_count": 217,
   "metadata": {},
   "outputs": [
    {
     "name": "stdout",
     "output_type": "stream",
     "text": [
      "+--------+\n",
      "|count(1)|\n",
      "+--------+\n",
      "|53925735|\n",
      "+--------+\n",
      "\n"
     ]
    }
   ],
   "source": [
    "query=\"\"\"select count(*) from trips\"\"\"\n",
    "spark.sql(query).show()"
   ]
  },
  {
   "cell_type": "code",
   "execution_count": 205,
   "metadata": {},
   "outputs": [],
   "source": [
    "# register temp table so it can be queried with SQL\n",
    "trips_df.registerTempTable(\"trips\")\n",
    "weather_stations_df.registerTempTable(\"weather_stations\")\n",
    "weather_df.registerTempTable(\"weather\")"
   ]
  },
  {
   "cell_type": "code",
   "execution_count": 206,
   "metadata": {},
   "outputs": [],
   "source": [
    "# Filtering Out Problematic Data\n",
    "# Join in all the loaded DataFrames into one\n",
    "query = \"\"\"\n",
    "WITH daily_weather AS (\n",
    "  SELECT\n",
    "    TO_DATE(\n",
    "      CAST(\n",
    "        UNIX_TIMESTAMP(CONCAT(w.mo, '/', w.da, '/', w.year), 'MM/dd/yyyy') AS TIMESTAMP\n",
    "      )\n",
    "    ) AS weather_date,\n",
    "    w.temp AS avg_temp\n",
    "  FROM\n",
    "    weather w\n",
    "  WHERE\n",
    "    w.wban IN (\n",
    "      SELECT\n",
    "        ws.wban\n",
    "      FROM\n",
    "        weather_stations ws\n",
    "      WHERE\n",
    "        ws.country = 'US'\n",
    "        AND ws.state = 'NY'\n",
    "        AND ws.call = 'KNYC'\n",
    "    )\n",
    "),\n",
    "yellow_trips AS (\n",
    "  SELECT\n",
    "    t.VendorID as vendor_id,\n",
    "    TO_DATE(t.tpep_pickup_datetime) AS pickup_date,\n",
    "    t.tpep_pickup_datetime AS pickup_datetime,\n",
    "    TO_DATE(t.tpep_dropoff_datetime) AS dropoff_date,\n",
    "    t.tpep_dropoff_datetime AS dropoff_datetime,\n",
    "    t.passenger_count,\n",
    "    t.trip_distance,\n",
    "    t.RatecodeID as rate_code,\n",
    "    t.store_and_fwd_flag,\n",
    "    t.PULocationID as pickup_location_id,\n",
    "    t.DOLocationID as dropoff_location_id,\n",
    "    t.payment_type,\n",
    "    t.total_amount\n",
    "  FROM\n",
    "    trips t\n",
    ")\n",
    "SELECT\n",
    "  yt.vendor_id,\n",
    "  yt.pickup_date,\n",
    "  yt.pickup_datetime,\n",
    "  yt.dropoff_date,\n",
    "  yt.dropoff_datetime,\n",
    "  yt.passenger_count,\n",
    "  yt.trip_distance,\n",
    "  yt.total_amount,\n",
    "  yt.pickup_location_id,\n",
    "  yt.dropoff_location_id,\n",
    "  CASE WHEN dw.avg_temp >=-58 and dw.avg_temp <=32 THEN 'Freezing'\n",
    "         WHEN dw.avg_temp >=33 and dw.avg_temp <=50 THEN 'Cold'\n",
    "         WHEN dw.avg_temp >=51 and dw.avg_temp <=68 THEN 'Warm'\n",
    "         WHEN dw.avg_temp >=69 and dw.avg_temp <=131 THEN 'HOT'\n",
    "         END AS weather\n",
    "FROM\n",
    "  yellow_trips yt\n",
    "  LEFT JOIN daily_weather dw ON (dw.weather_date = yt.pickup_date)\n",
    "WHERE \n",
    "    yt.total_amount < 10000\n",
    "    AND yt.total_amount > 0\n",
    "    AND yt.trip_distance < 1000\n",
    "    AND yt.trip_distance > 0\n",
    "    AND yt.passenger_count < 100\n",
    "    AND yt.pickup_date >= '2018-01-01'\n",
    "    AND yt.pickup_date < '2018-07-01'\n",
    "    AND dw.avg_temp >= -58\n",
    "    AND dw.avg_temp <=131\n",
    "\"\"\"\n",
    "\n",
    "# create a new DataFrame based on the query\n",
    "combo_df = spark.sql(query)\n",
    "\n",
    "# Register the new DataFrame \n",
    "combo_df.registerTempTable(\"comb\")\n"
   ]
  },
  {
   "cell_type": "code",
   "execution_count": 207,
   "metadata": {},
   "outputs": [
    {
     "name": "stdout",
     "output_type": "stream",
     "text": [
      "root\n",
      " |-- vendor_id: integer (nullable = true)\n",
      " |-- pickup_date: date (nullable = true)\n",
      " |-- pickup_datetime: timestamp (nullable = true)\n",
      " |-- dropoff_date: date (nullable = true)\n",
      " |-- dropoff_datetime: timestamp (nullable = true)\n",
      " |-- passenger_count: integer (nullable = true)\n",
      " |-- trip_distance: double (nullable = true)\n",
      " |-- total_amount: double (nullable = true)\n",
      " |-- pickup_location_id: integer (nullable = true)\n",
      " |-- dropoff_location_id: integer (nullable = true)\n",
      " |-- weather: string (nullable = true)\n",
      "\n"
     ]
    }
   ],
   "source": [
    "combo_df.printSchema()"
   ]
  },
  {
   "cell_type": "code",
   "execution_count": 208,
   "metadata": {},
   "outputs": [
    {
     "data": {
      "text/html": [
       "<div>\n",
       "<style scoped>\n",
       "    .dataframe tbody tr th:only-of-type {\n",
       "        vertical-align: middle;\n",
       "    }\n",
       "\n",
       "    .dataframe tbody tr th {\n",
       "        vertical-align: top;\n",
       "    }\n",
       "\n",
       "    .dataframe thead th {\n",
       "        text-align: right;\n",
       "    }\n",
       "</style>\n",
       "<table border=\"1\" class=\"dataframe\">\n",
       "  <thead>\n",
       "    <tr style=\"text-align: right;\">\n",
       "      <th></th>\n",
       "      <th>summary</th>\n",
       "      <th>total_amount</th>\n",
       "    </tr>\n",
       "  </thead>\n",
       "  <tbody>\n",
       "    <tr>\n",
       "      <th>0</th>\n",
       "      <td>count</td>\n",
       "      <td>53554416</td>\n",
       "    </tr>\n",
       "    <tr>\n",
       "      <th>1</th>\n",
       "      <td>mean</td>\n",
       "      <td>16.05897779654541</td>\n",
       "    </tr>\n",
       "    <tr>\n",
       "      <th>2</th>\n",
       "      <td>stddev</td>\n",
       "      <td>14.051510701954975</td>\n",
       "    </tr>\n",
       "    <tr>\n",
       "      <th>3</th>\n",
       "      <td>min</td>\n",
       "      <td>0.3</td>\n",
       "    </tr>\n",
       "    <tr>\n",
       "      <th>4</th>\n",
       "      <td>max</td>\n",
       "      <td>8019.6</td>\n",
       "    </tr>\n",
       "  </tbody>\n",
       "</table>\n",
       "</div>"
      ],
      "text/plain": [
       "  summary        total_amount\n",
       "0   count            53554416\n",
       "1    mean   16.05897779654541\n",
       "2  stddev  14.051510701954975\n",
       "3     min                 0.3\n",
       "4     max              8019.6"
      ]
     },
     "execution_count": 208,
     "metadata": {},
     "output_type": "execute_result"
    }
   ],
   "source": [
    "combo_df.select(\"total_amount\").describe().toPandas()"
   ]
  },
  {
   "cell_type": "code",
   "execution_count": 209,
   "metadata": {},
   "outputs": [
    {
     "data": {
      "text/html": [
       "<div>\n",
       "<style scoped>\n",
       "    .dataframe tbody tr th:only-of-type {\n",
       "        vertical-align: middle;\n",
       "    }\n",
       "\n",
       "    .dataframe tbody tr th {\n",
       "        vertical-align: top;\n",
       "    }\n",
       "\n",
       "    .dataframe thead th {\n",
       "        text-align: right;\n",
       "    }\n",
       "</style>\n",
       "<table border=\"1\" class=\"dataframe\">\n",
       "  <thead>\n",
       "    <tr style=\"text-align: right;\">\n",
       "      <th></th>\n",
       "      <th>summary</th>\n",
       "      <th>trip_distance</th>\n",
       "    </tr>\n",
       "  </thead>\n",
       "  <tbody>\n",
       "    <tr>\n",
       "      <th>0</th>\n",
       "      <td>count</td>\n",
       "      <td>53554416</td>\n",
       "    </tr>\n",
       "    <tr>\n",
       "      <th>1</th>\n",
       "      <td>mean</td>\n",
       "      <td>2.917112506837914</td>\n",
       "    </tr>\n",
       "    <tr>\n",
       "      <th>2</th>\n",
       "      <td>stddev</td>\n",
       "      <td>3.7538373324761</td>\n",
       "    </tr>\n",
       "    <tr>\n",
       "      <th>3</th>\n",
       "      <td>min</td>\n",
       "      <td>0.01</td>\n",
       "    </tr>\n",
       "    <tr>\n",
       "      <th>4</th>\n",
       "      <td>max</td>\n",
       "      <td>943.5</td>\n",
       "    </tr>\n",
       "  </tbody>\n",
       "</table>\n",
       "</div>"
      ],
      "text/plain": [
       "  summary      trip_distance\n",
       "0   count           53554416\n",
       "1    mean  2.917112506837914\n",
       "2  stddev    3.7538373324761\n",
       "3     min               0.01\n",
       "4     max              943.5"
      ]
     },
     "execution_count": 209,
     "metadata": {},
     "output_type": "execute_result"
    }
   ],
   "source": [
    "combo_df.select(\"trip_distance\").describe().toPandas()"
   ]
  },
  {
   "cell_type": "code",
   "execution_count": 210,
   "metadata": {},
   "outputs": [
    {
     "data": {
      "text/html": [
       "<div>\n",
       "<style scoped>\n",
       "    .dataframe tbody tr th:only-of-type {\n",
       "        vertical-align: middle;\n",
       "    }\n",
       "\n",
       "    .dataframe tbody tr th {\n",
       "        vertical-align: top;\n",
       "    }\n",
       "\n",
       "    .dataframe thead th {\n",
       "        text-align: right;\n",
       "    }\n",
       "</style>\n",
       "<table border=\"1\" class=\"dataframe\">\n",
       "  <thead>\n",
       "    <tr style=\"text-align: right;\">\n",
       "      <th></th>\n",
       "      <th>summary</th>\n",
       "      <th>passenger_count</th>\n",
       "    </tr>\n",
       "  </thead>\n",
       "  <tbody>\n",
       "    <tr>\n",
       "      <th>0</th>\n",
       "      <td>count</td>\n",
       "      <td>53554416</td>\n",
       "    </tr>\n",
       "    <tr>\n",
       "      <th>1</th>\n",
       "      <td>mean</td>\n",
       "      <td>1.6013468991987514</td>\n",
       "    </tr>\n",
       "    <tr>\n",
       "      <th>2</th>\n",
       "      <td>stddev</td>\n",
       "      <td>1.2491955704267848</td>\n",
       "    </tr>\n",
       "    <tr>\n",
       "      <th>3</th>\n",
       "      <td>min</td>\n",
       "      <td>0</td>\n",
       "    </tr>\n",
       "    <tr>\n",
       "      <th>4</th>\n",
       "      <td>max</td>\n",
       "      <td>9</td>\n",
       "    </tr>\n",
       "  </tbody>\n",
       "</table>\n",
       "</div>"
      ],
      "text/plain": [
       "  summary     passenger_count\n",
       "0   count            53554416\n",
       "1    mean  1.6013468991987514\n",
       "2  stddev  1.2491955704267848\n",
       "3     min                   0\n",
       "4     max                   9"
      ]
     },
     "execution_count": 210,
     "metadata": {},
     "output_type": "execute_result"
    }
   ],
   "source": [
    "combo_df.select(\"passenger_count\").describe().toPandas()"
   ]
  },
  {
   "cell_type": "code",
   "execution_count": 211,
   "metadata": {},
   "outputs": [
    {
     "name": "stdout",
     "output_type": "stream",
     "text": [
      "... completed job in 165.35308051109314 seconds\n"
     ]
    }
   ],
   "source": [
    "# Data quality check\n",
    "query = \"\"\"\n",
    "SELECT\n",
    "    DATE_TRUNC('MM', c.pickup_datetime) AS trip_month,\n",
    "    COUNT(1) AS trip_count\n",
    "FROM\n",
    "    comb c\n",
    "GROUP BY\n",
    "    trip_month\n",
    "\"\"\"\n",
    "\n",
    "start = time.time()\n",
    "pd_df = spark.sql(query).toPandas()\n",
    "print(f\"... completed job in {time.time() - start} seconds\")\n",
    "# from pyspark.sql.functions import sum as _sum\n"
   ]
  },
  {
   "cell_type": "code",
   "execution_count": 212,
   "metadata": {},
   "outputs": [
    {
     "data": {
      "image/png": "[encoded data removed]",
      "text/plain": [
       "<Figure size 1152x432 with 1 Axes>"
      ]
     },
     "metadata": {},
     "output_type": "display_data"
    }
   ],
   "source": [
    "# Plot out the daily trip count\n",
    "fig, ax = plt.subplots(figsize=(16,6))\n",
    "sns.lineplot(x='trip_month', y='trip_count', data=pd_df, ax=ax)\n",
    "\n",
    "ax.set_title(\"Trip Count (All)\")\n",
    "ax.set_ylabel(\"Trip Count\")\n",
    "ax.set_xlabel(\"Pick Up Date\")\n",
    "\n",
    "plt.show()"
   ]
  },
  {
   "cell_type": "code",
   "execution_count": 213,
   "metadata": {},
   "outputs": [
    {
     "name": "stdout",
     "output_type": "stream",
     "text": [
      "... completed job in 300.55413484573364 seconds\n"
     ]
    }
   ],
   "source": [
    "# How does the weather affect trips per day\n",
    "query = \"\"\"\n",
    "SELECT\n",
    "    c.weather,\n",
    "    DATE_FORMAT(c.pickup_date, 'EEEE') AS day_of_week,\n",
    "    COUNT(*) AS trip_count,\n",
    "    MEAN(c.trip_distance) AS mean_trip_distance,\n",
    "    ROUND(MEAN((unix_timestamp(c.dropoff_datetime) - unix_timestamp(c.pickup_datetime))/60),\n",
    "          2) AS mean_traveltime_min,\n",
    "    ROUND(MEAN(c.trip_distance/((unix_timestamp(c.dropoff_datetime) - unix_timestamp(c.pickup_datetime))/3600)),\n",
    "               2) AS mean_travelspeed_mph\n",
    "FROM\n",
    "    comb c\n",
    "GROUP BY\n",
    "    c.weather,\n",
    "    day_of_week\n",
    "\n",
    "\"\"\"\n",
    "\n",
    "start = time.time()\n",
    "pd_df = spark.sql(query).toPandas()\n",
    "print(f\"... completed job in {time.time() - start} seconds\")"
   ]
  },
  {
   "cell_type": "code",
   "execution_count": 214,
   "metadata": {},
   "outputs": [
    {
     "data": {
      "text/html": [
       "<div>\n",
       "<style scoped>\n",
       "    .dataframe tbody tr th:only-of-type {\n",
       "        vertical-align: middle;\n",
       "    }\n",
       "\n",
       "    .dataframe tbody tr th {\n",
       "        vertical-align: top;\n",
       "    }\n",
       "\n",
       "    .dataframe thead th {\n",
       "        text-align: right;\n",
       "    }\n",
       "</style>\n",
       "<table border=\"1\" class=\"dataframe\">\n",
       "  <thead>\n",
       "    <tr style=\"text-align: right;\">\n",
       "      <th></th>\n",
       "      <th>weather</th>\n",
       "      <th>day_of_week</th>\n",
       "      <th>trip_count</th>\n",
       "      <th>mean_trip_distance</th>\n",
       "      <th>mean_traveltime_min</th>\n",
       "      <th>mean_travelspeed_mph</th>\n",
       "    </tr>\n",
       "  </thead>\n",
       "  <tbody>\n",
       "    <tr>\n",
       "      <th>0</th>\n",
       "      <td>Warm</td>\n",
       "      <td>Thursday</td>\n",
       "      <td>2587988</td>\n",
       "      <td>2.959173</td>\n",
       "      <td>18.19</td>\n",
       "      <td>12.04</td>\n",
       "    </tr>\n",
       "    <tr>\n",
       "      <th>1</th>\n",
       "      <td>Warm</td>\n",
       "      <td>Monday</td>\n",
       "      <td>1597787</td>\n",
       "      <td>3.195884</td>\n",
       "      <td>16.67</td>\n",
       "      <td>14.00</td>\n",
       "    </tr>\n",
       "    <tr>\n",
       "      <th>2</th>\n",
       "      <td>HOT</td>\n",
       "      <td>Thursday</td>\n",
       "      <td>1557013</td>\n",
       "      <td>2.990824</td>\n",
       "      <td>19.10</td>\n",
       "      <td>12.00</td>\n",
       "    </tr>\n",
       "    <tr>\n",
       "      <th>3</th>\n",
       "      <td>HOT</td>\n",
       "      <td>Friday</td>\n",
       "      <td>2112054</td>\n",
       "      <td>3.013212</td>\n",
       "      <td>18.24</td>\n",
       "      <td>13.15</td>\n",
       "    </tr>\n",
       "    <tr>\n",
       "      <th>4</th>\n",
       "      <td>None</td>\n",
       "      <td>Wednesday</td>\n",
       "      <td>624406</td>\n",
       "      <td>2.713547</td>\n",
       "      <td>17.03</td>\n",
       "      <td>11.65</td>\n",
       "    </tr>\n",
       "    <tr>\n",
       "      <th>5</th>\n",
       "      <td>None</td>\n",
       "      <td>Tuesday</td>\n",
       "      <td>315708</td>\n",
       "      <td>2.660555</td>\n",
       "      <td>16.35</td>\n",
       "      <td>11.99</td>\n",
       "    </tr>\n",
       "    <tr>\n",
       "      <th>6</th>\n",
       "      <td>Cold</td>\n",
       "      <td>Wednesday</td>\n",
       "      <td>3544283</td>\n",
       "      <td>2.747022</td>\n",
       "      <td>16.13</td>\n",
       "      <td>12.47</td>\n",
       "    </tr>\n",
       "    <tr>\n",
       "      <th>7</th>\n",
       "      <td>Cold</td>\n",
       "      <td>Monday</td>\n",
       "      <td>3853858</td>\n",
       "      <td>2.992249</td>\n",
       "      <td>15.68</td>\n",
       "      <td>14.06</td>\n",
       "    </tr>\n",
       "    <tr>\n",
       "      <th>8</th>\n",
       "      <td>Freezing</td>\n",
       "      <td>Saturday</td>\n",
       "      <td>593831</td>\n",
       "      <td>2.633627</td>\n",
       "      <td>15.18</td>\n",
       "      <td>13.25</td>\n",
       "    </tr>\n",
       "    <tr>\n",
       "      <th>9</th>\n",
       "      <td>HOT</td>\n",
       "      <td>Sunday</td>\n",
       "      <td>487354</td>\n",
       "      <td>3.390388</td>\n",
       "      <td>17.05</td>\n",
       "      <td>15.79</td>\n",
       "    </tr>\n",
       "  </tbody>\n",
       "</table>\n",
       "</div>"
      ],
      "text/plain": [
       "    weather day_of_week  trip_count  mean_trip_distance  mean_traveltime_min  \\\n",
       "0      Warm    Thursday     2587988            2.959173                18.19   \n",
       "1      Warm      Monday     1597787            3.195884                16.67   \n",
       "2       HOT    Thursday     1557013            2.990824                19.10   \n",
       "3       HOT      Friday     2112054            3.013212                18.24   \n",
       "4      None   Wednesday      624406            2.713547                17.03   \n",
       "5      None     Tuesday      315708            2.660555                16.35   \n",
       "6      Cold   Wednesday     3544283            2.747022                16.13   \n",
       "7      Cold      Monday     3853858            2.992249                15.68   \n",
       "8  Freezing    Saturday      593831            2.633627                15.18   \n",
       "9       HOT      Sunday      487354            3.390388                17.05   \n",
       "\n",
       "   mean_travelspeed_mph  \n",
       "0                 12.04  \n",
       "1                 14.00  \n",
       "2                 12.00  \n",
       "3                 13.15  \n",
       "4                 11.65  \n",
       "5                 11.99  \n",
       "6                 12.47  \n",
       "7                 14.06  \n",
       "8                 13.25  \n",
       "9                 15.79  "
      ]
     },
     "execution_count": 214,
     "metadata": {},
     "output_type": "execute_result"
    }
   ],
   "source": [
    "pd_df.head(10)"
   ]
  },
  {
   "cell_type": "code",
   "execution_count": 215,
   "metadata": {},
   "outputs": [
    {
     "name": "stderr",
     "output_type": "stream",
     "text": [
      "/opt/anaconda/lib/python3.7/site-packages/ipykernel_launcher.py:5: SettingWithCopyWarning: \n",
      "A value is trying to be set on a copy of a slice from a DataFrame.\n",
      "Try using .loc[row_indexer,col_indexer] = value instead\n",
      "\n",
      "See the caveats in the documentation: http://pandas.pydata.org/pandas-docs/stable/user_guide/indexing.html#returning-a-view-versus-a-copy\n",
      "  \"\"\"\n",
      "/opt/anaconda/lib/python3.7/site-packages/ipykernel_launcher.py:13: SettingWithCopyWarning: \n",
      "A value is trying to be set on a copy of a slice from a DataFrame.\n",
      "Try using .loc[row_indexer,col_indexer] = value instead\n",
      "\n",
      "See the caveats in the documentation: http://pandas.pydata.org/pandas-docs/stable/user_guide/indexing.html#returning-a-view-versus-a-copy\n",
      "  del sys.path[0]\n",
      "/opt/anaconda/lib/python3.7/site-packages/ipykernel_launcher.py:17: SettingWithCopyWarning: \n",
      "A value is trying to be set on a copy of a slice from a DataFrame\n",
      "\n",
      "See the caveats in the documentation: http://pandas.pydata.org/pandas-docs/stable/user_guide/indexing.html#returning-a-view-versus-a-copy\n"
     ]
    },
    {
     "data": {
      "image/png": "[encoded data removed]",
      "text/plain": [
       "<Figure size 864x360 with 1 Axes>"
      ]
     },
     "metadata": {},
     "output_type": "display_data"
    },
    {
     "data": {
      "image/png": "[encoded data removed]",
      "text/plain": [
       "<Figure size 864x360 with 1 Axes>"
      ]
     },
     "metadata": {},
     "output_type": "display_data"
    },
    {
     "data": {
      "image/png": "[encoded data removed]",
      "text/plain": [
       "<Figure size 864x360 with 1 Axes>"
      ]
     },
     "metadata": {},
     "output_type": "display_data"
    },
    {
     "data": {
      "image/png": "[encoded data removed]",
      "text/plain": [
       "<Figure size 864x360 with 1 Axes>"
      ]
     },
     "metadata": {},
     "output_type": "display_data"
    }
   ],
   "source": [
    "for weather in [\"Freezing\",\"Cold\",\"Warm\", \"HOT\"]:\n",
    "    \n",
    "    data = pd_df.loc[pd_df['weather'] == weather]\n",
    "    # indicator for weekend vs. weekday so we can color it differently in the plot.\n",
    "    data[\"weekend_ind\"] = data.day_of_week.apply(lambda x: 1 if (x == \"Saturday\" or x == \"Sunday\") else 0)\n",
    "\n",
    "    data[\"sort_dow\"] = data[\"day_of_week\"].replace({\"Sunday\":0, \n",
    "                                                    \"Monday\":1,\n",
    "                                                    \"Tuesday\":2,\n",
    "                                                    \"Wednesday\":3,\n",
    "                                                    \"Thursday\":4,\n",
    "                                                    \"Friday\": 5,\n",
    "                                                    \"Saturday\":6})\n",
    "\n",
    "\n",
    "    # sort the pd datfarame so that it shows up nicely in the plot\n",
    "    data.sort_values(by=\"sort_dow\", inplace=True)\n",
    "\n",
    "    fig, ax = plt.subplots(figsize=(12,5))\n",
    "    sns.barplot(x=\"day_of_week\",\n",
    "                y=\"trip_count\",\n",
    "                palette=[\"#978a84\", \"#bb3f3f\"],\n",
    "                data=data,\n",
    "                hue=\"weekend_ind\",\n",
    "                dodge=False, ax=ax)\n",
    "\n",
    "    # remove legend and change labels\n",
    "    ax.get_legend().remove()\n",
    "    ax.set_ylabel(\"Trip Count\")\n",
    "    ax.set_xlabel(weather)\n",
    "\n",
    "    # show the plot!\n",
    "    plt.show()\n"
   ]
  },
  {
   "cell_type": "code",
   "execution_count": null,
   "metadata": {},
   "outputs": [],
   "source": [
    " "
   ]
  }
 ],
 "metadata": {
  "kernelspec": {
   "display_name": "Python 3",
   "language": "python",
   "name": "python3"
  },
  "language_info": {
   "codemirror_mode": {
    "name": "ipython",
    "version": 3
   },
   "file_extension": ".py",
   "mimetype": "text/x-python",
   "name": "python",
   "nbconvert_exporter": "python",
   "pygments_lexer": "ipython3",
   "version": "3.7.5"
  }
 },
 "nbformat": 4,
 "nbformat_minor": 4
}
